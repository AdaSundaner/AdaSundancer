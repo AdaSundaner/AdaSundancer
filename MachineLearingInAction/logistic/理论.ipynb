{
 "cells": [
  {
   "cell_type": "markdown",
   "metadata": {},
   "source": [
    "## 1、Logistic回归"
   ]
  },
  {
   "cell_type": "markdown",
   "metadata": {},
   "source": [
    "### 根据现有数据对分类边界线建立回归公式，以此进行分类。\n",
    "### logistic回归中的“回归”，就是最佳拟合的意思，表示要找到最佳拟合参数集\n",
    "### 训练分类器时的做法就是寻找最佳拟合参数，使用的是最优化算法。\n",
    "### logistic回归也被看成是一种概率估计"
   ]
  },
  {
   "cell_type": "markdown",
   "metadata": {},
   "source": [
    "## 2、最优化算法"
   ]
  },
  {
   "cell_type": "markdown",
   "metadata": {},
   "source": [
    "### {1}Sigmoid函数：sigmoid =1/(1+e^(-x))\n",
    "###    当x为0时，sigmoid函数值为0.5，随着x的增大，对应的函数值接近1；随着x值减小，对应的函数值接近0.\n",
    "###    如果x足够大，sigmoid函数看起来就很像一个阶跃函数"
   ]
  },
  {
   "cell_type": "markdown",
   "metadata": {},
   "source": [
    "### {2}为实现logistic回归分类器，可以再每个特征上都乘以一个回归系数，\n",
    "### 然后把所有的结果值相加，将这个总和代入sigmoid函数中。\n",
    "### 进而得到一个范围在0--1之间的数值。\n",
    "### 大于0.5的数据被分为1类，小于0.5被分为0类。"
   ]
  },
  {
   "cell_type": "markdown",
   "metadata": {},
   "source": [
    "### {3}基于最优化方法的最佳回归系数确定\n",
    "### sigmoid函数的输入为z，z=w0x0+w1x1+......+wnxn"
   ]
  }
 ],
 "metadata": {
  "kernelspec": {
   "display_name": "Python 3",
   "language": "python",
   "name": "python3"
  },
  "language_info": {
   "codemirror_mode": {
    "name": "ipython",
    "version": 3
   },
   "file_extension": ".py",
   "mimetype": "text/x-python",
   "name": "python",
   "nbconvert_exporter": "python",
   "pygments_lexer": "ipython3",
   "version": "3.6.4"
  }
 },
 "nbformat": 4,
 "nbformat_minor": 2
}
