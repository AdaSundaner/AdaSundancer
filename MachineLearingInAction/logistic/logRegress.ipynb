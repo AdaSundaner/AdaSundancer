{
 "cells": [
  {
   "cell_type": "markdown",
   "metadata": {
    "deletable": true,
    "editable": true
   },
   "source": [
    "### 使用梯度上升找到最佳参数"
   ]
  },
  {
   "cell_type": "markdown",
   "metadata": {
    "deletable": true,
    "editable": true
   },
   "source": [
    "#### 1、logistic回归梯度上升优化算法"
   ]
  },
  {
   "cell_type": "code",
   "execution_count": 41,
   "metadata": {
    "collapsed": false,
    "deletable": true,
    "editable": true
   },
   "outputs": [],
   "source": [
    "import numpy as np\n",
    "def loadDataSet():\n",
    "    dataMat=[]\n",
    "    labelMat=[]\n",
    "    fr = open(\"E:/pythonStudy/MachineLearingInAction/machinelearninginaction/Ch05/testSet.txt\")\n",
    "    for line in fr.readlines():\n",
    "        lineArr=line.strip().split()\n",
    "        dataMat.append([1.0,float(lineArr[0]),float(lineArr[1])])\n",
    "        labelMat.append(int(lineArr[2]))\n",
    "    return dataMat,labelMat\n",
    "\n",
    "# sigmoid函数\n",
    "def sigmoid(inX):\n",
    "    return 1.0/(1+np.exp(-inX))\n",
    "\n",
    "# 梯度上升算法的主要逻辑\n",
    "def gradAscent(dataMatIn,classLabels):\n",
    "    dataMatrix=np.mat(dataMatIn) # 转换成Numpy矩阵格式\n",
    "    labelMat=np.mat(classmethod).transpose() # 对1*100的矩阵做转置\n",
    "    m,n=np.shape(dataMatrix)\n",
    "    alpha=0.001 # 梯度上升算法的步长\n",
    "    maxCycles=500 # 循环次数\n",
    "    weights=np.ones((n,1))\n",
    "    for k in range(maxCycles):\n",
    "        h=sigmoid(dataMatrix*weights) # 矩阵相乘        \n",
    "        error=labelMat - h # 真实类别和预测类别的差值\n",
    "        weights=weights+alpha*dataMatrix.transpose()*error # 回归系数\n",
    "    return weights"
   ]
  },
  {
   "cell_type": "code",
   "execution_count": 42,
   "metadata": {
    "collapsed": false,
    "deletable": true,
    "editable": true
   },
   "outputs": [
    {
     "ename": "TypeError",
     "evalue": "unsupported operand type(s) for -: 'type' and 'float'",
     "output_type": "error",
     "traceback": [
      "\u001b[1;31m---------------------------------------------------------------------------\u001b[0m",
      "\u001b[1;31mTypeError\u001b[0m                                 Traceback (most recent call last)",
      "\u001b[1;32m<ipython-input-42-6ff30a70385a>\u001b[0m in \u001b[0;36m<module>\u001b[1;34m()\u001b[0m\n\u001b[0;32m      1\u001b[0m \u001b[1;31m# 测试梯度上升算法\u001b[0m\u001b[1;33m\u001b[0m\u001b[1;33m\u001b[0m\u001b[0m\n\u001b[0;32m      2\u001b[0m \u001b[0mdataArr\u001b[0m\u001b[1;33m,\u001b[0m\u001b[0mlabelMat\u001b[0m\u001b[1;33m=\u001b[0m\u001b[0mloadDataSet\u001b[0m\u001b[1;33m(\u001b[0m\u001b[1;33m)\u001b[0m\u001b[1;33m\u001b[0m\u001b[0m\n\u001b[1;32m----> 3\u001b[1;33m \u001b[0mgradAscent\u001b[0m\u001b[1;33m(\u001b[0m\u001b[0mdataArr\u001b[0m\u001b[1;33m,\u001b[0m\u001b[0mlabelMat\u001b[0m\u001b[1;33m)\u001b[0m\u001b[1;33m\u001b[0m\u001b[0m\n\u001b[0m",
      "\u001b[1;32m<ipython-input-41-29d81918a18c>\u001b[0m in \u001b[0;36mgradAscent\u001b[1;34m(dataMatIn, classLabels)\u001b[0m\n\u001b[0;32m     24\u001b[0m     \u001b[1;32mfor\u001b[0m \u001b[0mk\u001b[0m \u001b[1;32min\u001b[0m \u001b[0mrange\u001b[0m\u001b[1;33m(\u001b[0m\u001b[0mmaxCycles\u001b[0m\u001b[1;33m)\u001b[0m\u001b[1;33m:\u001b[0m\u001b[1;33m\u001b[0m\u001b[0m\n\u001b[0;32m     25\u001b[0m         \u001b[0mh\u001b[0m\u001b[1;33m=\u001b[0m\u001b[0msigmoid\u001b[0m\u001b[1;33m(\u001b[0m\u001b[0mdataMatrix\u001b[0m\u001b[1;33m*\u001b[0m\u001b[0mweights\u001b[0m\u001b[1;33m)\u001b[0m \u001b[1;31m# 矩阵相乘\u001b[0m\u001b[1;33m\u001b[0m\u001b[0m\n\u001b[1;32m---> 26\u001b[1;33m         \u001b[0merror\u001b[0m\u001b[1;33m=\u001b[0m\u001b[0mlabelMat\u001b[0m \u001b[1;33m-\u001b[0m \u001b[0mh\u001b[0m \u001b[1;31m# 真实类别和预测类别的差值\u001b[0m\u001b[1;33m\u001b[0m\u001b[0m\n\u001b[0m\u001b[0;32m     27\u001b[0m         \u001b[0mweights\u001b[0m\u001b[1;33m=\u001b[0m\u001b[0mweights\u001b[0m\u001b[1;33m+\u001b[0m\u001b[0malpha\u001b[0m\u001b[1;33m*\u001b[0m\u001b[0mdataMatrix\u001b[0m\u001b[1;33m.\u001b[0m\u001b[0mtranspose\u001b[0m\u001b[1;33m(\u001b[0m\u001b[1;33m)\u001b[0m\u001b[1;33m*\u001b[0m\u001b[0merror\u001b[0m \u001b[1;31m# 回归系数\u001b[0m\u001b[1;33m\u001b[0m\u001b[0m\n\u001b[0;32m     28\u001b[0m     \u001b[1;32mreturn\u001b[0m \u001b[0mweights\u001b[0m\u001b[1;33m\u001b[0m\u001b[0m\n",
      "\u001b[1;31mTypeError\u001b[0m: unsupported operand type(s) for -: 'type' and 'float'"
     ]
    }
   ],
   "source": [
    "# 测试梯度上升算法\n",
    "dataArr,labelMat=loadDataSet()\n",
    "gradAscent(dataArr,labelMat)"
   ]
  },
  {
   "cell_type": "markdown",
   "metadata": {
    "deletable": true,
    "editable": true
   },
   "source": [
    "#### 2、画出决策边界"
   ]
  },
  {
   "cell_type": "code",
   "execution_count": null,
   "metadata": {
    "collapsed": true,
    "deletable": true,
    "editable": true
   },
   "outputs": [],
   "source": [
    "def plotBestFit(weights):\n",
    "    import matplotlib.pyplot as plt\n",
    "    dataMat,labelMat=loadDataSet()\n",
    "    dataArr=array(dataMat)\n",
    "    n=np.shape(dataArr)[0]\n",
    "    xcord1=[];ycord1=[]\n",
    "    xcord2=[];ycord2=[]\n",
    "    for i in range(n):\n",
    "        if int(labelMat[i])==1:\n",
    "            xcord1.append(dataArr[i,1])\n",
    "            ycord1.append(dataArr[i,2])\n",
    "        else:\n",
    "            xcord2.append(dataArr[i,1])\n",
    "            ycord2.append(dataArr[i,2])\n",
    "    fig=plt.figure()\n",
    "    ax=fig.add_subplot(111)\n",
    "    ax.scatter(xcord1,ycord1,s=30,x='red',marker='s')\n",
    "    ax.scatter(xcord2,ycord2,s=30,c='green')\n",
    "    x=np.arange(-3.0,3.0,0.1)\n",
    "    ax.plot(x,y)\n",
    "    plt.xlabel('X1')\n",
    "    plt.ylabel('X2')\n",
    "    plt.show()"
   ]
  },
  {
   "cell_type": "code",
   "execution_count": null,
   "metadata": {
    "collapsed": false,
    "deletable": true,
    "editable": true
   },
   "outputs": [],
   "source": [
    "weights=gradAscent(dataArr,labelMat)\n",
    "plotBestFit(weights.getA())"
   ]
  },
  {
   "cell_type": "markdown",
   "metadata": {},
   "source": [
    "#### 3、改进的随机梯度上升算法"
   ]
  },
  {
   "cell_type": "code",
   "execution_count": 45,
   "metadata": {
    "collapsed": true
   },
   "outputs": [],
   "source": [
    "def stocGradAscent1(dataMatrix,classLabels,numIter=150):\n",
    "    m,n=np.shape(dataMatrix) # shape(dataMatrix)返回dataMatrix的行数和列数：m=100，n=3\n",
    "    weights=np.ones(n) # 1*n列的单位矩阵\n",
    "    for j in range(5):\n",
    "        dataIndex=range(5)\n",
    "        for i in range(5):\n",
    "            alpha=4/(1.0+j+i)+0.01\n",
    "            randIndex=int(np.random.uniform(0,len(dataIndex))) # uniform 随机生成下一个实数，在[0，len(dataIndex)]范围之内\n",
    "            #print (randIndex)\n",
    "            h=sigmoid(sum(dataMatrix[randIndex]*weights)) # 利用sigmoid函数计算随机样本和回归系数乘积的值，即为z\n",
    "            #print (h)\n",
    "            error=classLabels[randIndex]-h  # 计算误差\n",
    "            print (error)\n",
    "            weights=weights+alpha*error*dataMatrix[randIndex] # 更新回归系数\n",
    "            print (\"weights\")\n",
    "            print (weights)\n",
    "            del(list(dataIndex)[randIndex]) # 将这个训练样本删除\n",
    "    return weights"
   ]
  },
  {
   "cell_type": "code",
   "execution_count": 46,
   "metadata": {
    "collapsed": false
   },
   "outputs": [
    {
     "name": "stdout",
     "output_type": "stream",
     "text": [
      "-0.9989208285995589\n",
      "weights\n",
      "[ -3.00567252   6.29698518 -27.65198672]\n",
      "-1.3023238012805805e-82\n",
      "weights\n",
      "[ -3.00567252   6.29698518 -27.65198672]\n",
      "-7.616650913084453e-171\n",
      "weights\n",
      "[ -3.00567252   6.29698518 -27.65198672]\n",
      "-1.509870942203388e-91\n",
      "weights\n",
      "[ -3.00567252   6.29698518 -27.65198672]\n",
      "1.0\n",
      "weights\n",
      "[ -2.19567252   5.16652164 -23.87532851]\n",
      "-8.164343113883002e-79\n",
      "weights\n",
      "[ -2.19567252   5.16652164 -23.87532851]\n",
      "-3.63327031222827e-71\n",
      "weights\n",
      "[ -2.19567252   5.16652164 -23.87532851]\n",
      "-1.9578046787278736e-147\n",
      "weights\n",
      "[ -2.19567252   5.16652164 -23.87532851]\n",
      "-1.9578046787278736e-147\n",
      "weights\n",
      "[ -2.19567252   5.16652164 -23.87532851]\n",
      "-2.3510976767921003e-115\n",
      "weights\n",
      "[ -2.19567252   5.16652164 -23.87532851]\n",
      "-2.3510976767921003e-115\n",
      "weights\n",
      "[ -2.19567252   5.16652164 -23.87532851]\n",
      "-8.164343113883002e-79\n",
      "weights\n",
      "[ -2.19567252   5.16652164 -23.87532851]\n",
      "-1.9578046787278736e-147\n",
      "weights\n",
      "[ -2.19567252   5.16652164 -23.87532851]\n",
      "-2.3510976767921003e-115\n",
      "weights\n",
      "[ -2.19567252   5.16652164 -23.87532851]\n",
      "-3.63327031222827e-71\n",
      "weights\n",
      "[ -2.19567252   5.16652164 -23.87532851]\n",
      "-8.164343113883002e-79\n",
      "weights\n",
      "[ -2.19567252   5.16652164 -23.87532851]\n",
      "-3.63327031222827e-71\n",
      "weights\n",
      "[ -2.19567252   5.16652164 -23.87532851]\n",
      "-1.9578046787278736e-147\n",
      "weights\n",
      "[ -2.19567252   5.16652164 -23.87532851]\n",
      "-1.9578046787278736e-147\n",
      "weights\n",
      "[ -2.19567252   5.16652164 -23.87532851]\n",
      "1.0\n",
      "weights\n",
      "[ -1.68567252   4.4547483  -21.4974326 ]\n",
      "-7.553258207272529e-104\n",
      "weights\n",
      "[ -1.68567252   4.4547483  -21.4974326 ]\n",
      "-1.0749848294627781e-132\n",
      "weights\n",
      "[ -1.68567252   4.4547483  -21.4974326 ]\n",
      "-5.8448478239838e-64\n",
      "weights\n",
      "[ -1.68567252   4.4547483  -21.4974326 ]\n",
      "-7.553258207272529e-104\n",
      "weights\n",
      "[ -1.68567252   4.4547483  -21.4974326 ]\n",
      "-1.0749848294627781e-132\n",
      "weights\n",
      "[ -1.68567252   4.4547483  -21.4974326 ]\n"
     ]
    },
    {
     "data": {
      "text/plain": [
       "array([ -1.68567252,   4.4547483 , -21.4974326 ])"
      ]
     },
     "execution_count": 46,
     "metadata": {},
     "output_type": "execute_result"
    }
   ],
   "source": [
    "dataArr,labelMat=loadDataSet()\n",
    "#print (dataArr)\n",
    "#print (\"-------------\")\n",
    "#print (np.array(dataArr))\n",
    "#print (\"-------------\")\n",
    "#print (labelMat)\n",
    "weights=stocGradAscent1(np.array(dataArr),labelMat) # 标准化为numpy的数组形式\n",
    "weights"
   ]
  }
 ],
 "metadata": {
  "kernelspec": {
   "display_name": "Python 3",
   "language": "python",
   "name": "python3"
  },
  "language_info": {
   "codemirror_mode": {
    "name": "ipython",
    "version": 3
   },
   "file_extension": ".py",
   "mimetype": "text/x-python",
   "name": "python",
   "nbconvert_exporter": "python",
   "pygments_lexer": "ipython3",
   "version": "3.6.4"
  }
 },
 "nbformat": 4,
 "nbformat_minor": 2
}
