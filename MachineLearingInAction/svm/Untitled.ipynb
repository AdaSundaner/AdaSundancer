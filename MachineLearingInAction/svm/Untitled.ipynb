{
 "cells": [
  {
   "cell_type": "code",
   "execution_count": null,
   "metadata": {
    "collapsed": true,
    "deletable": true,
    "editable": true
   },
   "outputs": [],
   "source": [
    "def loadDataSet(fileName):\n",
    "    dataMat=[]\n",
    "    labelMat=[]\n",
    "    fr=open(fileName)\n",
    "    for line in fr.readlines():\n",
    "        lineArr=line.strip().split('\\t')\n",
    "        dataMat.append([float(lineArr[0]),float(lineArr[1])])\n",
    "        labelMat.append(float(lineArr[2]))\n",
    "    retrun dataMat,labelMat\n",
    "\n",
    "def selectJrand(i,m):\n",
    "    j=i\n",
    "    while(j==i):\n",
    "        j=int(random.uniform(0,m))\n",
    "    return j\n",
    "\n",
    "def clipAlpha(aj,H,L):\n",
    "    if aj>H:\n",
    "        aj=H\n",
    "    if L > aj:\n",
    "        aj=L\n",
    "    return aj"
   ]
  }
 ],
 "metadata": {
  "kernelspec": {
   "display_name": "Python 3",
   "language": "python",
   "name": "python3"
  }
 },
 "nbformat": 4,
 "nbformat_minor": 2
}
