{
 "cells": [
  {
   "cell_type": "markdown",
   "metadata": {
    "collapsed": true,
    "deletable": true,
    "editable": true
   },
   "source": [
    "## 一、SVM相关理论知识"
   ]
  },
  {
   "cell_type": "markdown",
   "metadata": {},
   "source": [
    "### 0、有以下几个分类\n",
    "#### 1、线性可分支持向量机（使用硬间隔最大化）\n",
    "#### 2、线性支持向量机（线性不可分支持向量机）（使用软间隔最大化）\n",
    "#### 3、非线性支持向量机（使用核技巧 及 软间隔最大化）"
   ]
  },
  {
   "cell_type": "markdown",
   "metadata": {
    "deletable": true,
    "editable": true
   },
   "source": [
    "### 1、分割超平面： \n",
    "#### 将数据集分割开来的直线称为分割超平面\n",
    "### 2、超平面（分类的决策边界）：\n",
    "#### 若数据集是两维的，称为分割超平面，若是N（N>3）维的，则需要一个N-1维度的对象来进行分割，这个N-1维的对象就称为超平面\n",
    "### 3、间隔：\n",
    "#### 我们希望找到离超平面最近的点，确保它们离分割面的距离尽可能远。这里点到分割面的距离称为间隔。"
   ]
  },
  {
   "cell_type": "markdown",
   "metadata": {
    "deletable": true,
    "editable": true
   },
   "source": [
    "### 4、支持向量（support vector）：\n",
    "#### 就是离分隔超平面最近的那些点。\n",
    "### 我们要做的事情就是要最大化支持向量到分割面的距离，需要找到此问题的优化求解方法 。"
   ]
  },
  {
   "cell_type": "markdown",
   "metadata": {
    "deletable": true,
    "editable": true
   },
   "source": [
    "## 二、寻找最大间隔："
   ]
  },
  {
   "cell_type": "markdown",
   "metadata": {
    "deletable": true,
    "editable": true
   },
   "source": [
    "### 1、分类器求解的优化问题："
   ]
  },
  {
   "cell_type": "markdown",
   "metadata": {
    "deletable": true,
    "editable": true
   },
   "source": [
    "### 2、SVM应用的一般框架\n",
    "### （1）收集数据：可以使用任意方法\n",
    "### （2）准备数据：需要数值型数据\n",
    "### （3）分析数据：有助于可视化分个超平面\n",
    "### （4）训练算法：SVM的大部分时间都源于训练，该过程主要实现两个参数的调优\n",
    "### （5）测试算法：\n",
    "### （6）使用算法：几乎所有的分类问题都也可以使用SVM，但是SVM本身是一个二类分类器，对多类问题应用SVM需要对代码做一些修改"
   ]
  },
  {
   "cell_type": "markdown",
   "metadata": {
    "deletable": true,
    "editable": true
   },
   "source": [
    "## 三、SMO高效算法优化"
   ]
  },
  {
   "cell_type": "markdown",
   "metadata": {
    "deletable": true,
    "editable": true
   },
   "source": [
    "### 1、SMO算法是将大优化问题分解为多个小优化问题来求解的。\n",
    "### 2、SMO算法的目标是求出一系列alpha和b，一旦求出了这些alpha，就很容易计算出权重向量w，并得到分割超平面。\n",
    "### 3、SMO工作原理：\n",
    "####   每次循环中选择两个alpha进行优化处理。一旦找到一对合适的alpha，那么就增大其中一个同时减小另一个。\n",
    "####   这里所谓的合适，是指两个alpha必须要符合一定的条件，\n",
    "####   条件之一就是这两个alpha必须要在间隔边界之外，第二个条件是这两个alpha还没进行过区间化处理或者不在边界上"
   ]
  }
 ],
 "metadata": {
  "kernelspec": {
   "display_name": "Python 3",
   "language": "python",
   "name": "python3"
  },
  "language_info": {
   "codemirror_mode": {
    "name": "ipython",
    "version": 3
   },
   "file_extension": ".py",
   "mimetype": "text/x-python",
   "name": "python",
   "nbconvert_exporter": "python",
   "pygments_lexer": "ipython3",
   "version": "3.6.4"
  }
 },
 "nbformat": 4,
 "nbformat_minor": 2
}
