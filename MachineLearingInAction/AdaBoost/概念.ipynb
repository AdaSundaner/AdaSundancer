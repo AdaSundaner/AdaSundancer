{
 "cells": [
  {
   "cell_type": "markdown",
   "metadata": {},
   "source": [
    "### 元算法\n",
    "#### 元算法是对其他算法进行组合的方式。（将不同的分类器进行组合）"
   ]
  },
  {
   "cell_type": "markdown",
   "metadata": {},
   "source": [
    "### bagging（装袋）法：\n",
    "\n",
    "#### 根据有放回的随机取样，获取M个跟原有样本数一样的数据集，这些数据集中样本数数量一样，但可能会有重复。\n",
    "#### 1、bagging又叫自主聚集，是一种根据均匀概率分布从数据中重复抽样（有放回的技术）\n",
    "#### 2、每个抽样生成的自主样本集上，训练一个基分类器；对训练过的分类器进行投票，将测试样本只拍到得票最高的类中\n",
    "#### 3、每个自主样本集都和原数据一样大\n",
    "#### 4、有放回抽样，一些样本可能在同一训练集中出现多次，一些可能被忽略。\n",
    "![image][https://github.com/AdaSundaner/Tyro/blob/master/MachineLearingInAction/img/bagging.png?raw=true]"
   ]
  },
  {
   "cell_type": "markdown",
   "metadata": {},
   "source": [
    "### boosting"
   ]
  }
 ],
 "metadata": {
  "kernelspec": {
   "display_name": "Python 3",
   "language": "python",
   "name": "python3"
  },
  "language_info": {
   "codemirror_mode": {
    "name": "ipython",
    "version": 3
   },
   "file_extension": ".py",
   "mimetype": "text/x-python",
   "name": "python",
   "nbconvert_exporter": "python",
   "pygments_lexer": "ipython3",
   "version": "3.6.4"
  }
 },
 "nbformat": 4,
 "nbformat_minor": 2
}
