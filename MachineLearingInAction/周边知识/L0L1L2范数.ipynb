{
 "cells": [
  {
   "cell_type": "markdown",
   "metadata": {},
   "source": [
    "## L0/L1/L2 范数"
   ]
  },
  {
   "cell_type": "markdown",
   "metadata": {},
   "source": [
    "### 1、L0范数：  表示向量中非零元素的个数\n",
    "####   如果使用L0范数，即希望w的大部分元素都是0（w是稀疏的）,所以可以用于ML中做稀疏编码，特征选择。通过最小化L0范数，来寻找最少最优的稀疏特征项。\n",
    "####   但是，L0范数的最优化问题是一个NP hard问题，理论上有证明，L1范数是L0范数的最优凸近似，所以通常使用L1范数来代替。"
   ]
  },
  {
   "cell_type": "markdown",
   "metadata": {},
   "source": [
    "### 2、L1范数：标识向量中每个元素绝对值的和\n",
    "####   L1范数的解通常是稀疏性的，倾向于选择数目较少的一些非常大的值或者数目较多的insignificant的最小值"
   ]
  },
  {
   "cell_type": "markdown",
   "metadata": {},
   "source": [
    "### 3、L2范数：欧式距离\n",
    "####   L2范数越小，可以使得w的每个元素都很小，接近于0，但是L1范数不同的是，L2范数不会让它等于0而是接近0"
   ]
  }
 ],
 "metadata": {
  "kernelspec": {
   "display_name": "Python 3",
   "language": "python",
   "name": "python3"
  },
  "language_info": {
   "codemirror_mode": {
    "name": "ipython",
    "version": 3
   },
   "file_extension": ".py",
   "mimetype": "text/x-python",
   "name": "python",
   "nbconvert_exporter": "python",
   "pygments_lexer": "ipython3",
   "version": "3.6.4"
  }
 },
 "nbformat": 4,
 "nbformat_minor": 2
}
